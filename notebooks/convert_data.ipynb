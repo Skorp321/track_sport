{
 "cells": [
  {
   "cell_type": "code",
   "execution_count": 8,
   "metadata": {},
   "outputs": [],
   "source": [
    "import pandas as pd\n",
    "import numpy as np\n",
    "import json\n",
    "import os\n",
    "from tqdm import tqdm"
   ]
  },
  {
   "cell_type": "code",
   "execution_count": 2,
   "metadata": {},
   "outputs": [],
   "source": [
    "PRED_PATH = \"../hota/2020_12_16_Montana_at_Washington.txt\"\n",
    "GT_PATH = \"data\\\\ncaa_dataset\\\\images\""
   ]
  },
  {
   "cell_type": "code",
   "execution_count": 3,
   "metadata": {},
   "outputs": [],
   "source": [
    "def xyxy_to_xywh(bbox):\n",
    "    x1, y1, x2, y2 = bbox\n",
    "    x_center = (x1 + x2) / 2\n",
    "    y_center = (y1 + y2) / 2\n",
    "    width = np.abs(x2 - x1)\n",
    "    height = np.abs(y2 - y1)\n",
    "    \n",
    "    return [x_center, y_center, width, height]"
   ]
  },
  {
   "cell_type": "code",
   "execution_count": 9,
   "metadata": {},
   "outputs": [],
   "source": [
    "def create_gt_file(folder='2020_12_16_Montana_at_Washington'):\n",
    " \n",
    "    image_folder = '..\\\\data\\\\ncaa_dataset\\\\images'\n",
    "\n",
    "    images = [img for img in os.listdir(image_folder) if img.endswith(\".jpg\")]\n",
    "    images.sort()\n",
    "\n",
    "    num = 0\n",
    "\n",
    "    with open(f'..\\\\data\\\\ncaa_dataset\\\\gt_xywh.txt', 'w') as output_file:\n",
    "\n",
    "        for i, img in enumerate(tqdm(images), start=1):\n",
    "            img_path = os.path.join(image_folder, img)\n",
    "            anno_path = img_path.replace('jpg', 'json')\n",
    "            anno_path = anno_path.replace('images', 'annos')\n",
    "\n",
    "            if not os.path.isfile(anno_path):\n",
    "                continue\n",
    "\n",
    "            with open(anno_path, 'r') as f:\n",
    "                data = json.load(f)\n",
    "\n",
    "\n",
    "            for shape in data['shapes']:\n",
    "\n",
    "                label = shape['label']\n",
    "\n",
    "                if label.isdigit():\n",
    "\n",
    "                    x1, y1 = shape['points'][0]\n",
    "                    x2, y2 = shape['points'][1]\n",
    "\n",
    "                    width = np.abs(x2 - x1)\n",
    "                    height = np.abs(y2 - y1)\n",
    "\n",
    "                    # bbox_xywh = ops.xyxy2xywh(np.array([x1, y1, x2, y2], dtype=float))    \n",
    "\n",
    "                    line = f\"{i} {label} {x1:.0f} {y1:.0f} {width:.0f} {height:.0f} -1 -1 -1 0\\n\"\n",
    "\n",
    "                    output_file.write(line)"
   ]
  },
  {
   "cell_type": "code",
   "execution_count": 10,
   "metadata": {},
   "outputs": [
    {
     "name": "stderr",
     "output_type": "stream",
     "text": [
      "100%|██████████| 1534/1534 [00:18<00:00, 84.90it/s]\n"
     ]
    }
   ],
   "source": [
    "create_gt_file()"
   ]
  },
  {
   "cell_type": "code",
   "execution_count": null,
   "metadata": {},
   "outputs": [],
   "source": [
    "def xywh2xyxy(x: pd.DataFrame):\n",
    "    \"\"\"\n",
    "    Convert bounding box coordinates from (x, y, width, height) format to (x1, y1, x2, y2) format where (x1, y1) is the\n",
    "    top-left corner and (x2, y2) is the bottom-right corner.\n",
    "\n",
    "    Args:\n",
    "        x (np.ndarray) or (torch.Tensor): The input bounding box coordinates in (x, y, width, height) format.\n",
    "    Returns:\n",
    "        y (np.ndarray) or (torch.Tensor): The bounding box coordinates in (x1, y1, x2, y2) format.\n",
    "    \"\"\"\n",
    "    y = np.copy(x)\n",
    "    y[..., 2] = (x.iloc[:, 2])  # x center\n",
    "    y[..., 3] = (x.iloc[:, 3]) # y center\n",
    "    y[..., 4] = x.iloc[:, 4] - x.iloc[:, 2]  # width\n",
    "    y[..., 5] = x.iloc[:, 5] - x.iloc[:, 3]  # height\n",
    "    return y"
   ]
  },
  {
   "cell_type": "code",
   "execution_count": null,
   "metadata": {},
   "outputs": [],
   "source": [
    "data = pd.read_table('../data/anno_test_track/2020_12_16_Montana_at_Washington_gt_xyxy.txt', \n",
    "                    delimiter=' ', header=None)\n",
    "print(data.head())\n",
    "data = xywh2xyxy(data)\n",
    "df_data = pd.DataFrame(data)\n",
    "df_data.head()\n",
    "\n",
    "df_data.to_csv(r'../data/anno_test_track/2020_12_16_Montana_at_Washington_gt_xywh.txt', # type: ignore\n",
    "                header=None, index=None, sep=' ', mode='a') # type: ignore"
   ]
  },
  {
   "cell_type": "code",
   "execution_count": 14,
   "metadata": {},
   "outputs": [
    {
     "name": "stdout",
     "output_type": "stream",
     "text": [
      "^C\n"
     ]
    },
    {
     "name": "stderr",
     "output_type": "stream",
     "text": [
      "\u001b[32m2023-06-13 23:49:34.040\u001b[0m | \u001b[33m\u001b[1mWARNING \u001b[0m | \u001b[36mboxmot.utils.checks\u001b[0m:\u001b[36mcheck_packages\u001b[0m:\u001b[36m27\u001b[0m - \u001b[33m\u001b[1m\n",
      "Missing packages: \"lap>=0.4\" \n",
      "Atempting installation...\u001b[0m\n",
      "\u001b[32m2023-06-13 23:50:24.812\u001b[0m | \u001b[31m\u001b[1mERROR   \u001b[0m | \u001b[36mboxmot.utils.checks\u001b[0m:\u001b[36mcheck_packages\u001b[0m:\u001b[36m31\u001b[0m - \u001b[31m\u001b[1mCommand 'pip install --no-cache \"lap>=0.4\"  ' returned non-zero exit status 1.\u001b[0m\n"
     ]
    }
   ],
   "source": [
    "!python examples/track.py --yolo-model yolov8x --tracking-method strongsort --source data\\\\ncaa_dataset\\\\images --img 640 --reid-model osnet_x1_0_msmt17.pt --save-txt"
   ]
  },
  {
   "cell_type": "code",
   "execution_count": null,
   "metadata": {},
   "outputs": [],
   "source": []
  },
  {
   "cell_type": "code",
   "execution_count": null,
   "metadata": {},
   "outputs": [],
   "source": []
  }
 ],
 "metadata": {
  "kernelspec": {
   "display_name": ".env",
   "language": "python",
   "name": "python3"
  },
  "language_info": {
   "codemirror_mode": {
    "name": "ipython",
    "version": 3
   },
   "file_extension": ".py",
   "mimetype": "text/x-python",
   "name": "python",
   "nbconvert_exporter": "python",
   "pygments_lexer": "ipython3",
   "version": "3.10.1"
  },
  "orig_nbformat": 4
 },
 "nbformat": 4,
 "nbformat_minor": 2
}
