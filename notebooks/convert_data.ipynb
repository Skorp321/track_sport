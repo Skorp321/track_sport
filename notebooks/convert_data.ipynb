{
 "cells": [
  {
   "cell_type": "code",
   "execution_count": 1,
   "metadata": {},
   "outputs": [],
   "source": [
    "import pandas as pd\n",
    "import numpy as np\n",
    "import json\n",
    "import os\n",
    "from tqdm.notebook import tqdm"
   ]
  },
  {
   "cell_type": "code",
   "execution_count": 2,
   "metadata": {},
   "outputs": [],
   "source": [
    "PRED_PATH = \"../hota/2020_12_16_Montana_at_Washington.txt\"\n",
    "GT_PATH = \"data\\processed\\forTest\\images\\2018-11-28_Virginia_at_Maryland\""
   ]
  },
  {
   "cell_type": "code",
   "execution_count": 3,
   "metadata": {},
   "outputs": [],
   "source": [
    "def xyxy_to_xywh(bbox):\n",
    "    x1, y1, x2, y2 = bbox\n",
    "    x_center = (x1 + x2) / 2\n",
    "    y_center = (y1 + y2) / 2\n",
    "    width = np.abs(x2 - x1)\n",
    "    height = np.abs(y2 - y1)\n",
    "    \n",
    "    return [x_center, y_center, width, height]"
   ]
  },
  {
   "cell_type": "code",
   "execution_count": 4,
   "metadata": {},
   "outputs": [],
   "source": [
    "def create_gt_file(folder='2020_12_16_Montana_at_Washington'):\n",
    " \n",
    "    image_folder = '..\\\\data\\\\ncaa_dataset\\\\images'\n",
    "\n",
    "    images = [img for img in os.listdir(image_folder) if img.endswith(\".jpg\")]\n",
    "    images.sort()\n",
    "\n",
    "    num = 0\n",
    "\n",
    "    with open(f'..\\\\data\\\\ncaa_dataset\\\\gt_xywh.txt', 'w') as output_file:\n",
    "\n",
    "        for i, img in enumerate(tqdm(images), start=1):\n",
    "            img_path = os.path.join(image_folder, img)\n",
    "            anno_path = img_path.replace('jpg', 'json')\n",
    "            anno_path = anno_path.replace('images', 'annos')\n",
    "\n",
    "            if not os.path.isfile(anno_path):\n",
    "                continue\n",
    "\n",
    "            with open(anno_path, 'r') as f:\n",
    "                data = json.load(f)\n",
    "\n",
    "\n",
    "            for shape in data['shapes']:\n",
    "\n",
    "                label = shape['label']\n",
    "\n",
    "                if label.isdigit():\n",
    "\n",
    "                    x1, y1 = shape['points'][0]\n",
    "                    x2, y2 = shape['points'][1]\n",
    "\n",
    "                    width = np.abs(x2 - x1)\n",
    "                    height = np.abs(y2 - y1)\n",
    "\n",
    "                    # bbox_xywh = ops.xyxy2xywh(np.array([x1, y1, x2, y2], dtype=float))    \n",
    "\n",
    "                    line = f\"{i} {label} {x1:.0f} {y1:.0f} {width:.0f} {height:.0f} -1 -1 -1 0\\n\"\n",
    "\n",
    "                    output_file.write(line)"
   ]
  },
  {
   "cell_type": "code",
   "execution_count": 5,
   "metadata": {},
   "outputs": [
    {
     "ename": "FileNotFoundError",
     "evalue": "[WinError 3] Системе не удается найти указанный путь: 'data\\\\ncaa_dataset\\\\images'",
     "output_type": "error",
     "traceback": [
      "\u001b[1;31m---------------------------------------------------------------------------\u001b[0m",
      "\u001b[1;31mFileNotFoundError\u001b[0m                         Traceback (most recent call last)",
      "Cell \u001b[1;32mIn[5], line 1\u001b[0m\n\u001b[1;32m----> 1\u001b[0m create_gt_file()\n",
      "Cell \u001b[1;32mIn[4], line 5\u001b[0m, in \u001b[0;36mcreate_gt_file\u001b[1;34m(folder)\u001b[0m\n\u001b[0;32m      1\u001b[0m \u001b[39mdef\u001b[39;00m \u001b[39mcreate_gt_file\u001b[39m(folder\u001b[39m=\u001b[39m\u001b[39m'\u001b[39m\u001b[39m2020_12_16_Montana_at_Washington\u001b[39m\u001b[39m'\u001b[39m):\n\u001b[0;32m      3\u001b[0m     image_folder \u001b[39m=\u001b[39m \u001b[39m'\u001b[39m\u001b[39mdata\u001b[39m\u001b[39m\\\\\u001b[39;00m\u001b[39mncaa_dataset\u001b[39m\u001b[39m\\\\\u001b[39;00m\u001b[39mimages\u001b[39m\u001b[39m'\u001b[39m\n\u001b[1;32m----> 5\u001b[0m     images \u001b[39m=\u001b[39m [img \u001b[39mfor\u001b[39;00m img \u001b[39min\u001b[39;00m os\u001b[39m.\u001b[39;49mlistdir(image_folder) \u001b[39mif\u001b[39;00m img\u001b[39m.\u001b[39mendswith(\u001b[39m\"\u001b[39m\u001b[39m.jpg\u001b[39m\u001b[39m\"\u001b[39m)]\n\u001b[0;32m      6\u001b[0m     images\u001b[39m.\u001b[39msort()\n\u001b[0;32m      8\u001b[0m     num \u001b[39m=\u001b[39m \u001b[39m0\u001b[39m\n",
      "\u001b[1;31mFileNotFoundError\u001b[0m: [WinError 3] Системе не удается найти указанный путь: 'data\\\\ncaa_dataset\\\\images'"
     ]
    }
   ],
   "source": [
    "create_gt_file()"
   ]
  },
  {
   "cell_type": "code",
   "execution_count": null,
   "metadata": {},
   "outputs": [],
   "source": [
    "def xywh2xyxy(x: pd.DataFrame):\n",
    "    \"\"\"\n",
    "    Convert bounding box coordinates from (x, y, width, height) format to (x1, y1, x2, y2) format where (x1, y1) is the\n",
    "    top-left corner and (x2, y2) is the bottom-right corner.\n",
    "\n",
    "    Args:\n",
    "        x (np.ndarray) or (torch.Tensor): The input bounding box coordinates in (x, y, width, height) format.\n",
    "    Returns:\n",
    "        y (np.ndarray) or (torch.Tensor): The bounding box coordinates in (x1, y1, x2, y2) format.\n",
    "    \"\"\"\n",
    "    y = np.copy(x)\n",
    "    y[..., 2] = (x.iloc[:, 2])  # x center\n",
    "    y[..., 3] = (x.iloc[:, 3]) # y center\n",
    "    y[..., 4] = x.iloc[:, 4] - x.iloc[:, 2]  # width\n",
    "    y[..., 5] = x.iloc[:, 5] - x.iloc[:, 3]  # height\n",
    "    return y"
   ]
  },
  {
   "cell_type": "code",
   "execution_count": null,
   "metadata": {},
   "outputs": [],
   "source": [
    "data = pd.read_table('../data/anno_test_track/2020_12_16_Montana_at_Washington_gt_xyxy.txt', \n",
    "                    delimiter=' ', header=None)\n",
    "print(data.head())\n",
    "data = xywh2xyxy(data)\n",
    "df_data = pd.DataFrame(data)\n",
    "df_data.head()\n",
    "\n",
    "df_data.to_csv(r'../data/anno_test_track/2020_12_16_Montana_at_Washington_gt_xywh.txt', \n",
    "                header=None, index=None, sep=' ', mode='a') # type: ignore"
   ]
  }
 ],
 "metadata": {
  "kernelspec": {
   "display_name": ".env",
   "language": "python",
   "name": "python3"
  },
  "language_info": {
   "codemirror_mode": {
    "name": "ipython",
    "version": 3
   },
   "file_extension": ".py",
   "mimetype": "text/x-python",
   "name": "python",
   "nbconvert_exporter": "python",
   "pygments_lexer": "ipython3",
   "version": "3.9.12"
  },
  "orig_nbformat": 4
 },
 "nbformat": 4,
 "nbformat_minor": 2
}
