{
 "cells": [
  {
   "cell_type": "code",
   "execution_count": null,
   "metadata": {},
   "outputs": [],
   "source": [
    "python examples/val.py --yolo-model yolov8x.pt --benchmark ncaa_dataset --split test --tracking-method strongsort"
   ]
  },
  {
   "cell_type": "code",
   "execution_count": null,
   "metadata": {},
   "outputs": [],
   "source": [
    "python examples/track.py --yolo-model yolov8x.pt --tracking-method strongsort --source examples\\val_utils\\data\\ncaa_dataset\\test\\ncaa_dataset-01\\img1 --reid-model osnet_x1_0_msmt17.pt --save-txt \n"
   ]
  },
  {
   "cell_type": "code",
   "execution_count": 5,
   "metadata": {},
   "outputs": [
    {
     "name": "stdout",
     "output_type": "stream",
     "text": [
      "<class 'torchreid.reid.models.osnet.OSNet'>\n",
      "Successfully loaded pretrained weights from \"../models/osnet-1.0-softmax-custom/model/model.pth.tar-150\"\n",
      "** The following layers are discarded due to unmatched keys or layer size: ['classifier.weight', 'classifier.bias']\n"
     ]
    },
    {
     "ename": "AttributeError",
     "evalue": "'NoneType' object has no attribute 'state_dict'",
     "output_type": "error",
     "traceback": [
      "\u001b[1;31m---------------------------------------------------------------------------\u001b[0m",
      "\u001b[1;31mAttributeError\u001b[0m                            Traceback (most recent call last)",
      "Cell \u001b[1;32mIn[5], line 18\u001b[0m\n\u001b[0;32m     12\u001b[0m model \u001b[39m=\u001b[39m torchreid\u001b[39m.\u001b[39mutils\u001b[39m.\u001b[39mload_pretrained_weights(model, \u001b[39m'\u001b[39m\u001b[39m../models/osnet-1.0-softmax-custom/model/model.pth.tar-150\u001b[39m\u001b[39m'\u001b[39m)\n\u001b[0;32m     14\u001b[0m model_path \u001b[39m=\u001b[39m \u001b[39m'\u001b[39m\u001b[39m..\u001b[39m\u001b[39m\\\\\u001b[39;00m\u001b[39mmodels\u001b[39m\u001b[39m\\\\\u001b[39;00m\u001b[39mosnet-1.0-softmax-custom\u001b[39m\u001b[39m\\\\\u001b[39;00m\u001b[39mocnet_1_best.pt\u001b[39m\u001b[39m'\u001b[39m\n\u001b[0;32m     16\u001b[0m torchreid\u001b[39m.\u001b[39mutils\u001b[39m.\u001b[39msave_checkpoint(\n\u001b[0;32m     17\u001b[0m     {\n\u001b[1;32m---> 18\u001b[0m        \u001b[39m'\u001b[39m\u001b[39mstate_dict\u001b[39m\u001b[39m'\u001b[39m: model\u001b[39m.\u001b[39;49mstate_dict(),\n\u001b[0;32m     19\u001b[0m     },\n\u001b[0;32m     20\u001b[0m     fpath\u001b[39m=\u001b[39mmodel_path,\n\u001b[0;32m     21\u001b[0m )\n",
      "\u001b[1;31mAttributeError\u001b[0m: 'NoneType' object has no attribute 'state_dict'"
     ]
    }
   ],
   "source": [
    "import torch\n",
    "import torchreid\n",
    "\n",
    "\n",
    "model = torchreid.models.build_model(\n",
    "        name=\"osnet_x1_0\",\n",
    "        num_classes=1,\n",
    "        loss=\"softmax\",\n",
    "        pretrained=False,\n",
    "    )\n",
    "print(type(model))\n",
    "model = torchreid.utils.load_pretrained_weights(model, '../models/osnet-1.0-softmax-custom/model/model.pth.tar-150')\n",
    "\n",
    "model_path = '..\\\\models\\\\osnet-1.0-softmax-custom\\\\ocnet_1_best.pt'\n",
    "\n",
    "torchreid.utils.save_checkpoint(\n",
    "    {\n",
    "       'state_dict': model.state_dict(),\n",
    "    },\n",
    "    fpath=model_path,\n",
    ")\n",
    "\n"
   ]
  },
  {
   "cell_type": "code",
   "execution_count": null,
   "metadata": {},
   "outputs": [],
   "source": []
  }
 ],
 "metadata": {
  "kernelspec": {
   "display_name": ".env_cuda12",
   "language": "python",
   "name": "python3"
  },
  "language_info": {
   "codemirror_mode": {
    "name": "ipython",
    "version": 3
   },
   "file_extension": ".py",
   "mimetype": "text/x-python",
   "name": "python",
   "nbconvert_exporter": "python",
   "pygments_lexer": "ipython3",
   "version": "3.9.12"
  },
  "orig_nbformat": 4
 },
 "nbformat": 4,
 "nbformat_minor": 2
}
