{
 "cells": [
  {
   "cell_type": "code",
   "execution_count": 5,
   "metadata": {},
   "outputs": [
    {
     "name": "stdout",
     "output_type": "stream",
     "text": [
      "Number of folders in ../data/processed: 389\n"
     ]
    },
    {
     "name": "stderr",
     "output_type": "stream",
     "text": [
      "100%|██████████| 266/266 [00:00<00:00, 13077.24it/s]\n",
      "100%|██████████| 59/59 [00:00<00:00, 33154.33it/s]\n",
      "100%|██████████| 67/67 [00:00<00:00, 32286.12it/s]\n"
     ]
    }
   ],
   "source": [
    "import os\n",
    "from tqdm import tqdm\n",
    "import shutil\n",
    "from sklearn.model_selection import train_test_split\n",
    "\n",
    "# Get the root folder\n",
    "\n",
    "root_folder = '../data/processed'  # Replace with the actual path to your root folder\n",
    "\n",
    "# Get a list of directories within the root folder\n",
    "directories = [name for name in os.listdir(root_folder) if os.path.isdir(os.path.join(root_folder, name))]\n",
    "\n",
    "# Count the number of directories\n",
    "num_folders = len(directories)\n",
    "\n",
    "print(f\"Number of folders in {root_folder}: {num_folders - 3}\")\n",
    "\n",
    "train_data, val_data = train_test_split(directories, test_size=0.15, random_state=42)\n",
    "train_data, test_data = train_test_split(train_data, test_size=0.2, random_state=42)\n",
    "\n",
    "def move_files(source_folder: str, file_list: list, flag: str):\n",
    "\n",
    "    for file in tqdm(file_list):\n",
    "        # Create the folder and its parent directories if they don't exist\n",
    "        final_path = os.path.join(source_folder, flag)\n",
    "        os.makedirs(final_path, exist_ok=True)\n",
    "        shutil.move(os.path.join(source_folder, file), final_path)\n",
    "\n",
    "\n",
    "source_folder = '../data/processed'  # Replace with the actual path to the source folder\n",
    "\n",
    "# Move the folder and its contents to the destination directory\n",
    "move_files(source_folder, train_data, 'train')\n",
    "\n",
    "# Move the folder and its contents to the destination directory\n",
    "move_files(source_folder, val_data, 'val')\n",
    "\n",
    "# Move the folder and its contents to the destination directory\n",
    "move_files(source_folder, test_data, 'test')\n"
   ]
  },
  {
   "cell_type": "code",
   "execution_count": null,
   "metadata": {},
   "outputs": [],
   "source": []
  }
 ],
 "metadata": {
  "kernelspec": {
   "display_name": ".env_cuda12",
   "language": "python",
   "name": "python3"
  },
  "language_info": {
   "codemirror_mode": {
    "name": "ipython",
    "version": 3
   },
   "file_extension": ".py",
   "mimetype": "text/x-python",
   "name": "python",
   "nbconvert_exporter": "python",
   "pygments_lexer": "ipython3",
   "version": "3.10.6"
  },
  "orig_nbformat": 4
 },
 "nbformat": 4,
 "nbformat_minor": 2
}
