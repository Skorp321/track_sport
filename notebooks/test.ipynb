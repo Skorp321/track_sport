{
 "cells": [
  {
   "cell_type": "code",
   "execution_count": null,
   "metadata": {},
   "outputs": [],
   "source": [
    "!python examples/val.py --yolo-model yolov8x.pt --reid-model lmbn_n_market.pt --tracking-method strongsort --benchmark data\\ncaa_dataset\\train\\annos\n",
    "data\\ncaa_dataset\\train"
   ]
  },
  {
   "attachments": {},
   "cell_type": "markdown",
   "metadata": {},
   "source": [
    "#### треккинг дефолтных моделей\n"
   ]
  },
  {
   "cell_type": "code",
   "execution_count": 1,
   "metadata": {},
   "outputs": [
    {
     "name": "stderr",
     "output_type": "stream",
     "text": [
      "C:\\Program Files\\Python310\\python.exe: can't open file 'd:\\\\Projects\\\\track_sport\\\\notebooks\\\\examples\\\\track.py': [Errno 2] No such file or directory\n"
     ]
    }
   ],
   "source": [
    "!python examples/track.py --yolo-model yolov8n --tracking-method strongsort --source examples\\val_utils\\data\\ncaa_dataset\\train\\images --reid-model osnet_x1_0_msmt17.pt --save-txt"
   ]
  },
  {
   "attachments": {},
   "cell_type": "markdown",
   "metadata": {},
   "source": [
    "yolo_tracking\\runs\\track\\exp2\\labels\\images.txt"
   ]
  },
  {
   "cell_type": "markdown",
   "metadata": {},
   "source": []
  }
 ],
 "metadata": {
  "kernelspec": {
   "display_name": ".env_cuda12",
   "language": "python",
   "name": "python3"
  },
  "language_info": {
   "codemirror_mode": {
    "name": "ipython",
    "version": 3
   },
   "file_extension": ".py",
   "mimetype": "text/x-python",
   "name": "python",
   "nbconvert_exporter": "python",
   "pygments_lexer": "ipython3",
   "version": "3.10.1"
  },
  "orig_nbformat": 4
 },
 "nbformat": 4,
 "nbformat_minor": 2
}
