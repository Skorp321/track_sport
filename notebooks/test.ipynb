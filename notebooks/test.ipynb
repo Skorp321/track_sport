{
 "cells": [
  {
   "cell_type": "code",
   "execution_count": 6,
   "metadata": {},
   "outputs": [
    {
     "name": "stdout",
     "output_type": "stream",
     "text": [
      "1_c2_1.jpg\n"
     ]
    }
   ],
   "source": [
    "import re\n",
    "\n",
    "file_name = \"1_c1_1.jpg\"\n",
    "\n",
    "\n",
    "\n",
    "x, y, z = file_name.split('_')\n",
    "new_number = str('c2')  # increment the number by 1\n",
    "new_file_name = f'{x}_{new_number}_{z}'\n",
    "print(new_file_name)"
   ]
  },
  {
   "cell_type": "code",
   "execution_count": null,
   "metadata": {},
   "outputs": [],
   "source": []
  }
 ],
 "metadata": {
  "kernelspec": {
   "display_name": ".env_cuda12",
   "language": "python",
   "name": "python3"
  },
  "language_info": {
   "codemirror_mode": {
    "name": "ipython",
    "version": 3
   },
   "file_extension": ".py",
   "mimetype": "text/x-python",
   "name": "python",
   "nbconvert_exporter": "python",
   "pygments_lexer": "ipython3",
   "version": "3.10.1"
  },
  "orig_nbformat": 4
 },
 "nbformat": 4,
 "nbformat_minor": 2
}
